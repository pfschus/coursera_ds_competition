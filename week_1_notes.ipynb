{
 "cells": [
  {
   "cell_type": "markdown",
   "metadata": {},
   "source": [
    "# Introduction\n",
    "\n",
    "Patricia Schuster  \n",
    "Dec '19  "
   ]
  },
  {
   "cell_type": "code",
   "execution_count": 20,
   "metadata": {},
   "outputs": [
    {
     "data": {
      "application/javascript": [
       "$.getScript('https://kmahelona.github.io/ipython_notebook_goodies/ipython_notebook_toc.js')\n"
      ],
      "text/plain": [
       "<IPython.core.display.Javascript object>"
      ]
     },
     "metadata": {},
     "output_type": "display_data"
    }
   ],
   "source": [
    "%%javascript\n",
    "$.getScript('https://kmahelona.github.io/ipython_notebook_goodies/ipython_notebook_toc.js')"
   ]
  },
  {
   "cell_type": "markdown",
   "metadata": {},
   "source": [
    "\n",
    "<div id=\"toc\"></div>"
   ]
  },
  {
   "cell_type": "markdown",
   "metadata": {},
   "source": [
    "# Goals, assignments, schedule\n",
    "\n",
    "* Week 1  \n",
    "    * Intro to competitions and recap of machine learning basics  \n",
    "    * Feature preprocessing and extraction  \n",
    "    * Start working on final project competition  \n",
    "* Week 2  \n",
    "    * EDA- exporatory data analysis, using logic and visualizations  \n",
    "    * Validation, train/test  \n",
    "    * Data leaks  \n",
    "* Week 3  \n",
    "    * Improvement of solution  \n",
    "    * Metrics  \n",
    "    * Mean-encodings  \n",
    "    * Categorical features, overfitting  \n",
    "* Week 4  \n",
    "    * Other advanced features  \n",
    "    * Statistics and distance-based features  \n",
    "    * Hyperparameter optimization  \n",
    "    * Ensembles  \n",
    "* Week 5  \n",
    "    * Analyze the final project and winning solutions  \n",
    "    \n",
    "Assignments\n",
    "\n",
    "* Competition  \n",
    "    * Week 2: Basic pipeline  \n",
    "    * Week 3: Improve model  \n",
    "    * Week 4: Improve model  \n",
    "    * Week 5: Finalize  \n",
    "* Quizzes  \n",
    "* Programming assignments  \n",
    "\n",
    "# Competition mechanics\n",
    "\n",
    "Components:\n",
    "\n",
    "* Data  \n",
    "    * Many different formats  \n",
    "    * Usually a description is provided  \n",
    "* Model  \n",
    "    * We will produce it  \n",
    "    * Transforms the data into an answer  \n",
    "* Submission  \n",
    "    * Compare our model vs. other participants'  \n",
    "    * Competition will provide a sample submission  \n",
    "* Evaluation  \n",
    "    * Calculates a score vs. correct answers  \n",
    "    * Accuracy, Logistic loss, AUC, RMSE, MAE  \n",
    "* Leaderboard  \n",
    "    * Shows performance of all participating teams  \n",
    "    * Can usually select two submissions  \n",
    "    \n",
    "Motivation:\n",
    "\n",
    "* Learning and networking    \n",
    "* Non-trivial tasks, state-of-the-art approaches    \n",
    "* Get famous  \n",
    "* Could earn money  \n",
    "\n",
    "# Kaggle overview\n",
    "\n",
    "Kernels:\n",
    "\n",
    "* If you want to check an idea quickly or share code with other participants or teammates  \n",
    "* Like a small virtual machine in which you write, execute, and share your code  \n",
    "* Others can view your file and comment it  \n",
    "* Submit through a specialized form  \n",
    "\n",
    "# Real life vs. competitions\n",
    "\n",
    "* Competitions usually have formulated the problem and done data cleaning  \n",
    "* You just need to do pre-processing, select model  \n",
    "* Business insight helpful but not necessary  \n",
    "* Competitions not just about the ML algorithm if you want to win  \n",
    "\n",
    "Do not limit yourself!\n",
    "\n",
    "* It's ok to use:  \n",
    "    * Heuristics  \n",
    "    * Manual data analysis  \n",
    "* Don't be afraid of\n",
    "    * Complex solutions  \n",
    "    * Advanced feature engineering  \n",
    "    * Doing huge calculations  \n",
    "* Be creative!\n",
    "\n",
    "\n",
    "# Recap of main ML algorithms\n",
    "\n",
    "* Linear  \n",
    "* Tree-based  \n",
    "* kNN  \n",
    "* Neural networks  \n",
    "\n",
    "**No Free Lunch Theorem:** There's no method that outperforms all others for all tasks. Every method has a weakness. We must have a variety of methods to choose from. \n",
    "\n",
    "\n",
    "## Linear\n",
    "\n",
    "* Can be generalized for high-dimensional space  \n",
    "* Tries to separate data with a line into two subspaces with a hyperplane  \n",
    "* Examples: Linear models with different loss functions  \n",
    "    * Logistic regression  \n",
    "    * SVM Support Vector Machines  \n",
    "* Good for sparse, high-dimensional data  \n",
    "\n",
    "## Tree-based methods\n",
    "\n",
    "* Use decision tree as a building block for building more complicated models   \n",
    "* Can reduce the number of lines, describe lines in simple way  \n",
    "* Splits space into boxes  \n",
    "* Uses divide and conquer approach to split spaces up into sub-spaces  \n",
    "* Several approaches for performing the splits, leading to a wide variety of tree-based methods  \n",
    "    * Random forest  \n",
    "    * Gradient boosted decision trees **Powerful**  \n",
    "* Very powerful, a good default method for tabular data  \n",
    "* Hard to capture linear dependencies because it requires a lot of splits  \n",
    "    * Splits must be horizontal or vertical in 2D space\n",
    "    * Vs. a linear model where you can make a sloped line  \n",
    "* Extra Trees classified, a.k.a. Extremely Randomized Trees. Introduce more variation into the ensemble, features and splits selected at random, less computationally expensive than random forest\n",
    "    \n",
    "[Resource: Random forests explained intuitively](https://www.datasciencecentral.com/profiles/blogs/random-forests-explained-intuitively)  \n",
    "[Resource: Gradient boosting explained](http://arogozhnikov.github.io/2016/06/24/gradient_boosting_explained.html)  \n",
    "\n",
    "**Gradient Boosting Method**: Follow the resource above.  \n",
    "* Builds an ensemble of trees one-by-one, then the predictions of the individual trees are summed: $D(x) = d_{tree1}(x) + d_{tree2}(x) + ...$  \n",
    "* Train a tree to reconstruct the difference between the target function and the current predictions of an ensemble, which is called the residual: $R(x) = f(x) - D(x)$\n",
    "* Iterative process of ensemble building  \n",
    "\n",
    "\n",
    "    \n",
    "## k-NN: k-Nearest Neighbors\n",
    "\n",
    "* Assume that points near each other are likely to have similar labels. For an unknown point, what are its nearest neighbors?  \n",
    "* Use square distance to find nearest case, very simple  \n",
    "* Despite simplicity, often very informative  \n",
    "* In scikit-learn you can define your own distance function  \n",
    "\n",
    "[Resource: Introduction to k-NN](https://www.analyticsvidhya.com/blog/2018/03/introduction-k-neighbours-algorithm-clustering/)  \n",
    "\n",
    "## Neural networks\n",
    "\n",
    "* Save this for another time  \n",
    "* Basically treat it as a black box  \n",
    "* Some are especially good for images, sound, text  \n",
    "* TensorFlow, PyTorch are useful  \n",
    "* Feed-forward NNs produce smooth non-linear decision boundaries\n",
    "\n",
    "\n",
    "# Feature preprocesing and generation with respect to models\n",
    "\n",
    "* Feature preprocessing  \n",
    "* Feature generation  \n",
    "* Their dependence on a model type\n",
    "\n",
    "## Take a look at the Titanic dataset\n",
    "\n",
    "Each row: a person  \n",
    "Each column: a feature  \n",
    "\n",
    "Columns:\n",
    "\n",
    "* `Survived`: 0 or 1, binary (and the target)\n",
    "* `Age`, `fare`: Numeric\n",
    "* `SibSp`, `Parch`, `Pclass`: Categorical\n",
    "* `Ticket`, `PassengerID`: ID, unique to each individual\n",
    "* `Name`: Text\n",
    "\n",
    "## Feature preprocessing\n",
    "\n",
    "Each type of feature has its own way of being preprocessed in order to prepare it for classifier. \n",
    "\n",
    "For example: `pclass` column is nonlinear. If you want to use a linear model, you can split the `pclass` into three columns: `pclass==1`, `pclass=2`, `pclass=3`, and each will be a binary column. This is not useful for random forest, because random forest can easily work with a nonlinear column.\n",
    "\n",
    "## Numeric features\n",
    "    \n",
    "**Scaling**\n",
    "\n",
    "* Different scaling results in different model quality  \n",
    "* Rescale features to the same scale, 0 to 1. Use `sklearn`'s **`MixMaxScalar`**. `X = (X-X.min())/(X.max()-X.min())`. Try this out on the titanic dataset. I'm going to copy the titanic data here from our titanic project repo.  "
   ]
  },
  {
   "cell_type": "code",
   "execution_count": 1,
   "metadata": {},
   "outputs": [],
   "source": [
    "import numpy as np\n",
    "import pandas as pd\n",
    "import matplotlib.pyplot as plt\n",
    "import matplotlib.cm as cm\n",
    "from matplotlib.colors import Normalize\n",
    "import seaborn as sns\n",
    "sns.set(style='ticks')\n",
    "import os\n",
    "import sys"
   ]
  },
  {
   "cell_type": "code",
   "execution_count": 6,
   "metadata": {},
   "outputs": [
    {
     "data": {
      "text/html": [
       "<div>\n",
       "<style scoped>\n",
       "    .dataframe tbody tr th:only-of-type {\n",
       "        vertical-align: middle;\n",
       "    }\n",
       "\n",
       "    .dataframe tbody tr th {\n",
       "        vertical-align: top;\n",
       "    }\n",
       "\n",
       "    .dataframe thead th {\n",
       "        text-align: right;\n",
       "    }\n",
       "</style>\n",
       "<table border=\"1\" class=\"dataframe\">\n",
       "  <thead>\n",
       "    <tr style=\"text-align: right;\">\n",
       "      <th></th>\n",
       "      <th>PassengerId</th>\n",
       "      <th>Survived</th>\n",
       "      <th>Pclass</th>\n",
       "      <th>Name</th>\n",
       "      <th>Sex</th>\n",
       "      <th>Age</th>\n",
       "      <th>SibSp</th>\n",
       "      <th>Parch</th>\n",
       "      <th>Ticket</th>\n",
       "      <th>Fare</th>\n",
       "      <th>Cabin</th>\n",
       "      <th>Embarked</th>\n",
       "    </tr>\n",
       "  </thead>\n",
       "  <tbody>\n",
       "    <tr>\n",
       "      <th>0</th>\n",
       "      <td>1</td>\n",
       "      <td>0</td>\n",
       "      <td>3</td>\n",
       "      <td>Braund, Mr. Owen Harris</td>\n",
       "      <td>male</td>\n",
       "      <td>22.0</td>\n",
       "      <td>1</td>\n",
       "      <td>0</td>\n",
       "      <td>A/5 21171</td>\n",
       "      <td>7.2500</td>\n",
       "      <td>NaN</td>\n",
       "      <td>S</td>\n",
       "    </tr>\n",
       "    <tr>\n",
       "      <th>1</th>\n",
       "      <td>2</td>\n",
       "      <td>1</td>\n",
       "      <td>1</td>\n",
       "      <td>Cumings, Mrs. John Bradley (Florence Briggs Th...</td>\n",
       "      <td>female</td>\n",
       "      <td>38.0</td>\n",
       "      <td>1</td>\n",
       "      <td>0</td>\n",
       "      <td>PC 17599</td>\n",
       "      <td>71.2833</td>\n",
       "      <td>C85</td>\n",
       "      <td>C</td>\n",
       "    </tr>\n",
       "    <tr>\n",
       "      <th>2</th>\n",
       "      <td>3</td>\n",
       "      <td>1</td>\n",
       "      <td>3</td>\n",
       "      <td>Heikkinen, Miss. Laina</td>\n",
       "      <td>female</td>\n",
       "      <td>26.0</td>\n",
       "      <td>0</td>\n",
       "      <td>0</td>\n",
       "      <td>STON/O2. 3101282</td>\n",
       "      <td>7.9250</td>\n",
       "      <td>NaN</td>\n",
       "      <td>S</td>\n",
       "    </tr>\n",
       "    <tr>\n",
       "      <th>3</th>\n",
       "      <td>4</td>\n",
       "      <td>1</td>\n",
       "      <td>1</td>\n",
       "      <td>Futrelle, Mrs. Jacques Heath (Lily May Peel)</td>\n",
       "      <td>female</td>\n",
       "      <td>35.0</td>\n",
       "      <td>1</td>\n",
       "      <td>0</td>\n",
       "      <td>113803</td>\n",
       "      <td>53.1000</td>\n",
       "      <td>C123</td>\n",
       "      <td>S</td>\n",
       "    </tr>\n",
       "    <tr>\n",
       "      <th>4</th>\n",
       "      <td>5</td>\n",
       "      <td>0</td>\n",
       "      <td>3</td>\n",
       "      <td>Allen, Mr. William Henry</td>\n",
       "      <td>male</td>\n",
       "      <td>35.0</td>\n",
       "      <td>0</td>\n",
       "      <td>0</td>\n",
       "      <td>373450</td>\n",
       "      <td>8.0500</td>\n",
       "      <td>NaN</td>\n",
       "      <td>S</td>\n",
       "    </tr>\n",
       "  </tbody>\n",
       "</table>\n",
       "</div>"
      ],
      "text/plain": [
       "   PassengerId  Survived  Pclass  \\\n",
       "0            1         0       3   \n",
       "1            2         1       1   \n",
       "2            3         1       3   \n",
       "3            4         1       1   \n",
       "4            5         0       3   \n",
       "\n",
       "                                                Name     Sex   Age  SibSp  \\\n",
       "0                            Braund, Mr. Owen Harris    male  22.0      1   \n",
       "1  Cumings, Mrs. John Bradley (Florence Briggs Th...  female  38.0      1   \n",
       "2                             Heikkinen, Miss. Laina  female  26.0      0   \n",
       "3       Futrelle, Mrs. Jacques Heath (Lily May Peel)  female  35.0      1   \n",
       "4                           Allen, Mr. William Henry    male  35.0      0   \n",
       "\n",
       "   Parch            Ticket     Fare Cabin Embarked  \n",
       "0      0         A/5 21171   7.2500   NaN        S  \n",
       "1      0          PC 17599  71.2833   C85        C  \n",
       "2      0  STON/O2. 3101282   7.9250   NaN        S  \n",
       "3      0            113803  53.1000  C123        S  \n",
       "4      0            373450   8.0500   NaN        S  "
      ]
     },
     "execution_count": 6,
     "metadata": {},
     "output_type": "execute_result"
    }
   ],
   "source": [
    "data_dir = r'readonly/titanic_data/'\n",
    "train_df = pd.read_csv(os.path.join(data_dir,'train.csv'))\n",
    "train_df.head()"
   ]
  },
  {
   "cell_type": "code",
   "execution_count": 12,
   "metadata": {},
   "outputs": [
    {
     "data": {
      "image/png": "[encoded data removed]",
      "text/plain": [
       "<Figure size 720x288 with 2 Axes>"
      ]
     },
     "metadata": {
      "needs_background": "light"
     },
     "output_type": "display_data"
    }
   ],
   "source": [
    "train_df[['Age','SibSp']].hist(figsize=(10,4));"
   ]
  },
  {
   "cell_type": "code",
   "execution_count": 15,
   "metadata": {},
   "outputs": [
    {
     "name": "stderr",
     "output_type": "stream",
     "text": [
      "C:\\Users\\pfsch\\Anaconda3\\lib\\site-packages\\sklearn\\preprocessing\\data.py:323: DataConversionWarning: Data with input dtype int64, float64 were all converted to float64 by MinMaxScaler.\n",
      "  return self.partial_fit(X, y)\n"
     ]
    },
    {
     "data": {
      "image/png": "[encoded data removed]",
      "text/plain": [
       "<Figure size 720x288 with 2 Axes>"
      ]
     },
     "metadata": {
      "needs_background": "light"
     },
     "output_type": "display_data"
    }
   ],
   "source": [
    "from sklearn.preprocessing import MinMaxScaler\n",
    "scaler = MinMaxScaler()\n",
    "xtrain = scaler.fit_transform(train_df[['Age','SibSp']]);\n",
    "pd.DataFrame(xtrain).hist(figsize=(10,4));"
   ]
  },
  {
   "cell_type": "markdown",
   "metadata": {},
   "source": [
    "Another option is **`StandardScaler`**, which scales the data like the z-value in stats: `X = (X-X.mean())/X.std()`"
   ]
  },
  {
   "cell_type": "code",
   "execution_count": 16,
   "metadata": {},
   "outputs": [
    {
     "name": "stderr",
     "output_type": "stream",
     "text": [
      "C:\\Users\\pfsch\\Anaconda3\\lib\\site-packages\\sklearn\\preprocessing\\data.py:625: DataConversionWarning: Data with input dtype int64, float64 were all converted to float64 by StandardScaler.\n",
      "  return self.partial_fit(X, y)\n",
      "C:\\Users\\pfsch\\Anaconda3\\lib\\site-packages\\sklearn\\base.py:462: DataConversionWarning: Data with input dtype int64, float64 were all converted to float64 by StandardScaler.\n",
      "  return self.fit(X, **fit_params).transform(X)\n"
     ]
    },
    {
     "data": {
      "image/png": "[encoded data removed]",
      "text/plain": [
       "<Figure size 720x288 with 2 Axes>"
      ]
     },
     "metadata": {
      "needs_background": "light"
     },
     "output_type": "display_data"
    }
   ],
   "source": [
    "from sklearn.preprocessing import StandardScaler\n",
    "scaler = StandardScaler()\n",
    "xtrain = scaler.fit_transform(train_df[['Age','SibSp']]);\n",
    "pd.DataFrame(xtrain).hist(figsize=(10,4));"
   ]
  },
  {
   "cell_type": "markdown",
   "metadata": {},
   "source": [
    "Both scaling methods perform about the same for tree-based methods. You can tweak the scaling to boost various features in kNN. "
   ]
  },
  {
   "cell_type": "markdown",
   "metadata": {},
   "source": [
    "**Outliers**\n",
    "\n",
    "To protect models from outliers, clip data. Calculate lower and upper bounds as 1st and 99th percentile. \n",
    "\n",
    "Winsorization removes outliers by clipping feature's values.\n",
    "\n",
    "**Rank transformation**\n",
    "\n",
    "Sets spaces between proper assorted values to be equal. Can be better than `MinMaxScaler` if there are outliers, because it will move the outliers closer to the other day. Linear models, kNN, and neural networks can benefit from this transformation if you don't have time to handle outliers manually. \n",
    "\n",
    "**Log, sqrt transformation**\n",
    "\n",
    "Helps non-tree based methods and especially neural networks. Move values closer to the mean value. Helps moves outliers closer to other values.\n"
   ]
  },
  {
   "cell_type": "markdown",
   "metadata": {},
   "source": [
    "## Feature generation\n",
    "\n",
    "A way to create new features using knowledge about the features and the task. It helps us by making model training simple and effective. \n",
    "\n",
    "Use prior knowledge and EDA to proceed.\n",
    "\n",
    "Example: If you know real estate price and square footage, calculate price per square foot.\n",
    "\n",
    "Example: If you're trying to understand how customers perceive prices, you may transform the price to the fractional price. $2.49\\rightarrow0.49$. "
   ]
  },
  {
   "cell_type": "markdown",
   "metadata": {},
   "source": [
    "# Categorical and ordinal features\n",
    "\n",
    "Look at columns `Sex`, `Cabin`, `Pclass`, and `Embarked`.\n",
    "\n",
    "Ordinal = ordered categorial feature. For example, `Pclass` is an ordinal feature. Why? If it had been numerical, then we would consider the difference between 1st and 2nd class to be equal to the difference between 2nd and 3rd class. But if it's ordinal, we don't know which difference is bigger. \n",
    "\n",
    "The simplest way to encode a categorical feature is to map its values to different features. This is usually referred to as label encoding. \n",
    "\n",
    "`Embarked` can be encoded in a few ways.  \n",
    "* Alphabetical: `[S,C,Q] > [2,1,3]`.  \n",
    "* Order of appearance: `[S,C,Q] > [1,2,3]`.  \n",
    "* Frequency encoding: `[S,C,Q] > [0.5,0.3,0.2]`. This preserves some information about a feature's distribution, and can be useful for linear and tree-based methods. However, if you have multiple categories with the same frequency, they will be indistinguishable. \n",
    "\n",
    "For a linear model, you need to do One-hot encoding, where you make one column for each possible value of a categorical feature. Example, split the `pclass` into three columns: `pclass==1`, `pclass=2`, `pclass=3`. "
   ]
  },
  {
   "cell_type": "markdown",
   "metadata": {},
   "source": [
    "**Feature generation**: Look at interaction between features. For example, concatenate two columns, and then one-hot encode. `pclass` + `sex` $\\rightarrow$ `pclass_sex`. Columns are `1male`, `1female`, `2male`, etc. "
   ]
  },
  {
   "cell_type": "markdown",
   "metadata": {},
   "source": [
    "# Datetime and coordinates\n",
    "\n",
    "Datetime:  \n",
    "\n",
    "* Periodicity: Day number in week, month, season, year, etc.\n",
    "* Time passed since a moment: Row-dependent or row-independent\n",
    "* Difference between dates\n",
    "\n",
    "Coordinates:  \n",
    "\n",
    "* Geographical  \n",
    "* Add features like buildings, and calculate distance between points\n",
    "* You can rotate coordinates to help point straight lines in a diagonal direction\n",
    "* Centers of clusters, aggregated statistics"
   ]
  },
  {
   "cell_type": "markdown",
   "metadata": {},
   "source": [
    "# Handling missing values\n",
    "\n",
    "Fillna approaches:\n",
    "\n",
    "* `NaN`s, 999, -1  \n",
    "* sample mean or medium- this can mess up your analysis  \n",
    "* reconstruct value  \n",
    "\n",
    "How to fill missing values:\n",
    "\n",
    "* Interpolate between points  \n",
    "* Ignore missing values while calculating metrics for each feature  \n",
    "* Replace with a value outside the feature range, such as -999\n",
    "* Avoid filling `NaN`s before feature generation\n",
    "* A lot of models can handle `NaN`"
   ]
  },
  {
   "cell_type": "markdown",
   "metadata": {},
   "source": [
    "# Feature extraction from texts and images\n",
    "\n",
    "## Texts\n",
    "\n",
    "Example from Titanic: Using the name feature. How can we extract useful information from it?"
   ]
  },
  {
   "cell_type": "code",
   "execution_count": 19,
   "metadata": {},
   "outputs": [
    {
     "data": {
      "text/plain": [
       "0                              Braund, Mr. Owen Harris\n",
       "1    Cumings, Mrs. John Bradley (Florence Briggs Th...\n",
       "2                               Heikkinen, Miss. Laina\n",
       "3         Futrelle, Mrs. Jacques Heath (Lily May Peel)\n",
       "4                             Allen, Mr. William Henry\n",
       "Name: Name, dtype: object"
      ]
     },
     "execution_count": 19,
     "metadata": {},
     "output_type": "execute_result"
    }
   ],
   "source": [
    "train_df['Name'].head()"
   ]
  },
  {
   "cell_type": "markdown",
   "metadata": {},
   "source": [
    "**Texts preprocessing:**\n",
    "\n",
    "* Lemmatization- shorten words to their root. Democracy, democratic, democratization $\\rightarrow$ democr  \n",
    "* Stemming- standardize ending. Democracy, democratic, democratization $\\rightarrow$ democracy  \n",
    "* Stopwords- not helpful to solving the task, like articles or prepositions, very common words. `sklearn` has a feature to ignore those words  \n",
    "\n",
    "**1. Apply bag of words**   \n",
    "\n",
    "* Create a column for each word in the text, column entry is the number of times that word was used per row.    \n",
    "* Term frequency transformation- normalize per row. Sum of all columns across a row is 1.  \n",
    "* Boost more important features by normalizing features column-wise  \n",
    "* N-grams, divide text into individual words and also into short phrases. Can also do character N-grams. Captures some word interaction.  \n",
    "* May need to consider upper, lower case, for example.  \n",
    "\n",
    "\n",
    "**2. Extract to vector**  \n",
    "\n",
    "`Word2vec` converts each word to a vector in a sophisticated space, often with hundreds of dimensions. Challenging to derive vectors for sentences, requires a special model like `Doc2vec`.  \n",
    "\n",
    "Training can take a long time. Use models that have been trained already, like one that has been trained on Wikipedia.\n",
    "\n",
    "**In a competition**\n",
    "\n",
    "* BOW  \n",
    "    * Very large vectors  \n",
    "    * Meaning of each value in vector is known  \n",
    "* `Word2vec`  \n",
    "    * Relatively small vectors  \n",
    "    * Values in vector can be interpreted only in some cases, sometimes a downside  \n",
    "    * The words with similar meaning often have similar vector representations  \n",
    "    \n",
    "Can usually use the two together in your solution. "
   ]
  },
  {
   "cell_type": "markdown",
   "metadata": {},
   "source": [
    "## Images\n",
    "\n",
    "Convert it to a vector.  \n",
    "1. Descriptors  \n",
    "2. Train network from scratch  \n",
    "3. Finetuning  \n",
    "    * example: Classify roof images to east-west, nort-south, flat, or other. Idea- rotate the images and then classify them to quadruple the size of the dataset.  \n",
    "    * Details found in `keras` library  \n",
    "    * Especially useful if you don't have any other data than the images  \n",
    "        \n",
    "Benefit from using a model that has been trained on a similar dataset."
   ]
  },
  {
   "cell_type": "markdown",
   "metadata": {},
   "source": [
    "# Final project overview\n",
    "\n",
    "Time-series data provided by 1C. Task: forecast the sales for every item in every shop in the testing period. 30 shops, 20000 unique items. "
   ]
  },
  {
   "cell_type": "code",
   "execution_count": null,
   "metadata": {},
   "outputs": [],
   "source": []
  }
 ],
 "metadata": {
  "kernelspec": {
   "display_name": "Python 3",
   "language": "python",
   "name": "python3"
  },
  "language_info": {
   "codemirror_mode": {
    "name": "ipython",
    "version": 3
   },
   "file_extension": ".py",
   "mimetype": "text/x-python",
   "name": "python",
   "nbconvert_exporter": "python",
   "pygments_lexer": "ipython3",
   "version": "3.7.1"
  }
 },
 "nbformat": 4,
 "nbformat_minor": 2
}
